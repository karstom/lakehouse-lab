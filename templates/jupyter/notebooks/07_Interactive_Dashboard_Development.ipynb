{
 "cells": [
  {
   "cell_type": "markdown",
   "id": "dashboard-intro",
   "metadata": {},
   "source": [
    "# Interactive Dashboard Development Template\n",
    "\n",
    "This notebook provides a clean template for developing interactive dashboards in your JupyterHub environment.\n",
    "\n",
    "## What This Provides\n",
    "\n",
    "- ✅ **Interactive Charts**: Full Plotly functionality with hover, zoom, pan\n",
    "- ✅ **Inline Display**: Charts appear directly in your notebook\n",
    "- ✅ **No Network Issues**: No servers or port configuration needed\n",
    "- ✅ **Instant Results**: Run and see your dashboard immediately\n",
    "- ✅ **Easy Customization**: Modify data and charts as needed\n",
    "\n",
    "## Dashboard Features\n",
    "\n",
    "The sample dashboard includes:\n",
    "- 📈 **Monthly Revenue Trend** (line chart)\n",
    "- 👥 **Customer Growth** (area chart)\n",
    "- 🥧 **Product Users Distribution** (pie chart)\n",
    "- ⭐ **Product Satisfaction Ratings** (bar chart)\n",
    "- 💡 **Key Business Metrics** summary"
   ]
  },
  {
   "cell_type": "markdown",
   "id": "how-it-works",
   "metadata": {},
   "source": [
    "## How the Dashboard Script Works\n",
    "\n",
    "The `simple_working_dashboard.py` script:\n",
    "\n",
    "1. **Creates Sample Data**: Generates realistic business metrics using pandas and numpy\n",
    "2. **Builds Interactive Charts**: Uses Plotly to create 4 different chart types in a subplot layout\n",
    "3. **Displays Inline**: Shows charts directly in your notebook with full interactivity\n",
    "4. **Provides Summary**: Calculates and displays key performance indicators\n",
    "\n",
    "### Key Benefits:\n",
    "- **No Web Server Required**: Everything runs inline in your notebook\n",
    "- **Container-Safe**: Works across Docker container boundaries\n",
    "- **Development-Friendly**: Easy to modify and re-run for testing\n",
    "- **Production-Ready**: Can be adapted for real data sources"
   ]
  },
  {
   "cell_type": "code",
   "execution_count": null,
   "id": "dashboard-execution",
   "metadata": {},
   "outputs": [],
   "source": "# Execute the interactive dashboard\\n# This loads and runs the complete dashboard script with sample data\\n\\nexec(open('/home/jovyan/shared-notebooks/simple_working_dashboard.py').read())"
  },
  {
   "cell_type": "markdown",
   "id": "customization",
   "metadata": {},
   "source": [
    "## Customizing Your Dashboard\n",
    "\n",
    "To customize the dashboard for your needs:\n",
    "\n",
    "1. **Modify Data**: Edit the `create_sample_data()` function to use your real data\n",
    "2. **Add Charts**: Extend the subplot layout to include more visualizations\n",
    "3. **Change Styling**: Update colors, themes, and layout properties\n",
    "4. **Add Metrics**: Include additional KPIs in the summary section\n",
    "\n",
    "### Development Workflow:\n",
    "1. Make changes to `simple_working_dashboard.py`\n",
    "2. Re-run the cell above to see your changes\n",
    "3. Iterate until you have your desired dashboard\n",
    "4. Deploy to production when ready"
   ]
  },
  {
   "cell_type": "markdown",
   "id": "next-steps",
   "metadata": {},
   "source": [
    "## Next Steps\n",
    "\n",
    "- 🔧 **Customize**: Modify the dashboard script for your specific use case\n",
    "- 📊 **Expand**: Add more chart types and data sources\n",
    "- 🚀 **Deploy**: Integrate with your production Vizro dashboards\n",
    "- 📈 **Scale**: Connect to real databases and APIs\n",
    "\n",
    "## Files Included\n",
    "\n",
    "- `simple_working_dashboard.py` - Main dashboard script\n",
    "- `Dashboard_Development_Template.ipynb` - This template notebook\n",
    "- `cleanup_user_files.py` - Optional cleanup script"
   ]
  }
 ],
 "metadata": {
  "kernelspec": {
   "display_name": "Python 3",
   "language": "python",
   "name": "python3"
  },
  "language_info": {
   "codemirror_mode": {
    "name": "ipython",
    "version": 3
   },
   "file_extension": ".py",
   "mimetype": "text/x-python",
   "name": "python",
   "nbconvert_exporter": "python",
   "pygments_lexer": "ipython3",
   "version": "3.9.0"
  }
 },
 "nbformat": 4,
 "nbformat_minor": 5
}