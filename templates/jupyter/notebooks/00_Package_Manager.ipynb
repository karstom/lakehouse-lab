{
 "cells": [
  {
   "cell_type": "markdown",
   "id": "package-intro",
   "metadata": {},
   "source": [
    "# 📦 Dynamic Package Management\n",
    "\n",
    "This notebook allows you to install and manage Python packages dynamically without restarting the Jupyter container.\n",
    "\n",
    "**Perfect for data analysts who need to:**\n",
    "- Install new visualization libraries\n",
    "- Add machine learning packages\n",
    "- Try experimental data science tools\n",
    "- Install packages for specific analyses\n",
    "\n",
    "**Safe practices:**\n",
    "- Packages install to user directory (no system changes)\n",
    "- Easy to uninstall if not needed\n",
    "- Non-destructive to existing environment"
   ]
  },
  {
   "cell_type": "code",
   "execution_count": null,
   "id": "load-package-manager",
   "metadata": {},
   "outputs": [],
   "source": [
    "# Load the package manager\n",
    "import sys\n",
    "sys.path.append('/home/jovyan/work')\n",
    "\n",
    "try:\n",
    "    from notebook_package_manager import install, uninstall, list_packages, search, info, check, install_import\n",
    "    print(\"✅ Package manager loaded successfully!\")\n",
    "except ImportError:\n",
    "    print(\"⚠️ Package manager not found. Please ensure notebook_package_manager.py is available.\")\n",
    "    print(\"You can download it from the lakehouse-lab repository.\")"
   ]
  },
  {
   "cell_type": "markdown",
   "id": "quick-examples",
   "metadata": {},
   "source": [
    "## 🚀 Quick Examples\n",
    "\n",
    "Here are some common packages data analysts might want to install:"
   ]
  },
  {
   "cell_type": "code",
   "execution_count": null,
   "id": "example-installs",
   "metadata": {},
   "outputs": [],
   "source": [
    "# Example: Install popular data visualization packages\n",
    "print(\"📊 Installing popular data visualization packages...\")\n",
    "\n",
    "# Install multiple packages at once\n",
    "install('plotly dash streamlit')\n",
    "\n",
    "# Install and immediately import a package\n",
    "sklearn = install_import('scikit-learn', 'sklearn')\n",
    "\n",
    "# Check if packages are working\n",
    "check('plotly')\n",
    "check('sklearn')"
   ]
  },
  {
   "cell_type": "markdown",
   "id": "package-commands",
   "metadata": {},
   "source": [
    "## 🛠️ Package Management Commands\n",
    "\n",
    "### Installation\n",
    "```python\n",
    "install('package_name')              # Install single package\n",
    "install('pkg1 pkg2 pkg3')           # Install multiple packages\n",
    "install('package_name', upgrade=True) # Upgrade if already installed\n",
    "```\n",
    "\n",
    "### Information & Discovery\n",
    "```python\n",
    "list_packages()                     # List all installed packages\n",
    "list_packages('data')              # List packages matching 'data'\n",
    "info('pandas')                     # Show detailed package info\n",
    "check('numpy')                     # Check if package is available\n",
    "search('visualization')            # Search for packages\n",
    "```\n",
    "\n",
    "### Management\n",
    "```python\n",
    "uninstall('package_name')          # Remove package\n",
    "install_import('requests')         # Install and import in one step\n",
    "```"
   ]
  },
  {
   "cell_type": "code",
   "execution_count": null,
   "id": "demo-commands",
   "metadata": {},
   "outputs": [],
   "source": [
    "# Try some package management commands\n",
    "print(\"📋 Currently installed packages (sample):\")\n",
    "list_packages('pandas')  # Show pandas-related packages\n",
    "\n",
    "print(\"\\n🔍 Checking for common data science packages:\")\n",
    "common_packages = ['pandas', 'numpy', 'matplotlib', 'seaborn', 'plotly', 'sklearn']\n",
    "for pkg in common_packages:\n",
    "    check(pkg)"
   ]
  },
  {
   "cell_type": "markdown",
   "id": "popular-packages",
   "metadata": {},
   "source": [
    "## 📚 Popular Data Science Packages\n",
    "\n",
    "Here are some packages you might want to install for different use cases:"
   ]
  },
  {
   "cell_type": "code",
   "execution_count": null,
   "id": "package-suggestions",
   "metadata": {},
   "outputs": [],
   "source": [
    "# Package suggestions by category\n",
    "package_categories = {\n",
    "    \"📊 Visualization\": [\n",
    "        \"plotly\", \"bokeh\", \"altair\", \"seaborn\", \"matplotlib\", \"pygal\"\n",
    "    ],\n",
    "    \"🤖 Machine Learning\": [\n",
    "        \"scikit-learn\", \"xgboost\", \"lightgbm\", \"catboost\", \"tensorflow\", \"torch\"\n",
    "    ],\n",
    "    \"📈 Statistics & Analysis\": [\n",
    "        \"scipy\", \"statsmodels\", \"pingouin\", \"lifelines\", \"pymc3\"\n",
    "    ],\n",
    "    \"🌐 Web & APIs\": [\n",
    "        \"requests\", \"beautifulsoup4\", \"scrapy\", \"fastapi\", \"streamlit\", \"dash\"\n",
    "    ],\n",
    "    \"⚡ Performance\": [\n",
    "        \"numba\", \"dask\", \"ray\", \"polars\", \"vaex\"\n",
    "    ],\n",
    "    \"🔧 Utilities\": [\n",
    "        \"tqdm\", \"joblib\", \"click\", \"pydantic\", \"attrs\", \"rich\"\n",
    "    ]\n",
    "}\n",
    "\n",
    "print(\"📦 Popular Data Science Packages by Category:\")\n",
    "print(\"=\" * 50)\n",
    "\n",
    "for category, packages in package_categories.items():\n",
    "    print(f\"\\n{category}:\")\n",
    "    for i, pkg in enumerate(packages):\n",
    "        if i % 3 == 0 and i > 0:\n",
    "            print()  # New line every 3 packages\n",
    "        print(f\"   {pkg:<15}\", end=\"\")\n",
    "    print()  # Final newline\n",
    "\n",
    "print(\"\\n💡 To install any of these, use: install('package_name')\")\n",
    "print(\"💡 To install multiple: install('pkg1 pkg2 pkg3')\")"
   ]
  },
  {
   "cell_type": "markdown",
   "id": "best-practices",
   "metadata": {},
   "source": [
    "## ✨ Best Practices\n",
    "\n",
    "### 🎯 Installation Tips\n",
    "- **Install as needed**: Only install packages you're actively using\n",
    "- **Test immediately**: Run `check('package')` after installation\n",
    "- **Use specific versions**: For reproducibility, specify versions like `install('pandas==1.5.0')`\n",
    "\n",
    "### 🧹 Maintenance\n",
    "- **Clean up**: Uninstall packages you no longer need\n",
    "- **Check conflicts**: Some packages may conflict with existing ones\n",
    "- **Document**: Keep track of packages you've added for your analysis\n",
    "\n",
    "### 🔒 Safety\n",
    "- **User installation**: Packages install to your user directory (safe)\n",
    "- **Non-destructive**: Won't break the base environment\n",
    "- **Restart kernel**: If imports fail, restart the notebook kernel"
   ]
  },
  {
   "cell_type": "code",
   "execution_count": null,
   "id": "your-packages",
   "metadata": {},
   "outputs": [],
   "source": [
    "# Your custom package installations go here!\n",
    "# Example:\n",
    "\n",
    "# For advanced visualizations\n",
    "# install('plotly kaleido')\n",
    "\n",
    "# For machine learning\n",
    "# install('scikit-learn xgboost')\n",
    "\n",
    "# For web scraping\n",
    "# install('requests beautifulsoup4')\n",
    "\n",
    "# For time series analysis\n",
    "# install('prophet statsmodels')\n",
    "\n",
    "print(\"🎯 Ready for your custom package installations!\")\n",
    "print(\"Edit this cell to install the packages you need.\")"
   ]
  }
 ],
 "metadata": {
  "kernelspec": {
   "display_name": "Python 3",
   "language": "python",
   "name": "python3"
  },
  "language_info": {
   "codemirror_mode": {
    "name": "ipython",
    "version": 3
   },
   "file_extension": ".py",
   "mimetype": "text/x-python",
   "name": "python",
   "nbconvert_exporter": "python",
   "pygments_lexer": "ipython3",
   "version": "3.11.0"
  }
 },
 "nbformat": 4,
 "nbformat_minor": 5
}